{
 "cells": [
  {
   "cell_type": "markdown",
   "id": "b570978a",
   "metadata": {},
   "source": [
    "# Requirements:\n",
    "1. Introduction about the dataset\n",
    "2. What is the goal\n",
    "3. Preprocessing text\n",
    "4. Visualization\n",
    "5. Report"
   ]
  },
  {
   "cell_type": "markdown",
   "id": "56dde4f2",
   "metadata": {},
   "source": [
    "# Rubric:\n",
    "1. Definition of the dataset - Comprehensive and clear definition\n",
    "2. Visualization of the Dataset Features and Results - Detailed and insightful visualizations\n",
    "3. Cleaning the Text Document with Two Approaches - Effective use of two distinct cleaning approaches, with clear explanations\n",
    "4. Implementation of Three Word Embedding Methods - Comprehensive and effective implementation of three methods, including one\n",
    "with SpaCy\n",
    "5. Comparison of the Results of Word Embedding Methods - In-depth and insightful comparison, with clear findings\n",
    "6. Report and Description of Work Done - Comprehensive and well-structured report, clearly describing all aspects of the\n",
    "project"
   ]
  },
  {
   "cell_type": "markdown",
   "id": "9be97e59",
   "metadata": {},
   "source": [
    "# Introduction about the dataset\n",
    "\n",
    "The dataset used in this project is a labeled dataset of fake news articles, collected from various sources. The dataset contains 21261 instances, with each instance containing a title, text, and label (true or fake). The labels are represented as 0 for fake news and 1 for true news."
   ]
  },
  {
   "cell_type": "markdown",
   "id": "61c784f1",
   "metadata": {},
   "source": [
    "# What is the goal\n",
    "\n",
    "The goal of this project is to develop a machine learning model that can accurately classify fake news articles based on their content. By leveraging various word embedding techniques, such as Word2Vec, GloVe, and FastText, we will explore the potential of these models in detecting and distinguishing fake news."
   ]
  },
  {
   "cell_type": "markdown",
   "id": "19b75420",
   "metadata": {},
   "source": [
    "# Preprocessing text\n",
    "\n",
    "## Loading dataset from CSV"
   ]
  },
  {
   "cell_type": "code",
   "execution_count": 9,
   "id": "47885a94-be55-4944-8e39-93571036b752",
   "metadata": {},
   "outputs": [
    {
     "name": "stdout",
     "output_type": "stream",
     "text": [
      "GPU is enabled!\n",
      "Load Data                        :       0.53 seconds\n"
     ]
    }
   ],
   "source": [
    "import time\n",
    "import spacy\n",
    "import numpy as np\n",
    "import pandas as pd\n",
    "from transformers import AutoTokenizer, AutoModel\n",
    "from spacy.language import Language\n",
    "from spacy.tokens import Doc\n",
    "from gensim.models import Word2Vec, TfidfModel\n",
    "from gensim.corpora import Dictionary\n",
    "from sklearn.feature_extraction.text import CountVectorizer\n",
    "from sklearn.linear_model import LogisticRegression\n",
    "\n",
    "# Enable GPU if available\n",
    "if spacy.require_gpu():\n",
    "    print(\"GPU is enabled!\")\n",
    "else:\n",
    "    print(\"GPU not available.\")\n",
    "\n",
    "# Decorator to measure time of the function\n",
    "def measure_time(description):\n",
    "    def decorator(func):\n",
    "        def wrapper(*args, **kwargs):\n",
    "            start_time = time.time()\n",
    "            result = func(*args, **kwargs)\n",
    "            end_time = time.time()\n",
    "            print(f\"{description:<33}: {end_time - start_time:>10.2f} seconds\")\n",
    "            return result\n",
    "        return wrapper\n",
    "    return decorator\n",
    "\n",
    "# Load the dataset\n",
    "@measure_time(\"Load Data\")\n",
    "def load_data():\n",
    "    train_ds = pd.read_csv(\"Datasets/Fakenews/train.csv\", sep=';', on_bad_lines='skip') \n",
    "    test_ds = pd.read_csv(\"Datasets/Fakenews/test.csv\", sep=';', on_bad_lines='skip') \n",
    "    return train_ds, test_ds\n",
    "\n",
    "train_ds, test_ds = load_data()"
   ]
  },
  {
   "cell_type": "markdown",
   "id": "84991c41",
   "metadata": {},
   "source": [
    "## Cleaning Text using 2 approaches"
   ]
  },
  {
   "cell_type": "code",
   "execution_count": 10,
   "id": "1009b83e",
   "metadata": {},
   "outputs": [
    {
     "name": "stdout",
     "output_type": "stream",
     "text": [
      "Prepare Data                     :     265.43 seconds\n"
     ]
    }
   ],
   "source": [
    "# Setup pipeline for cleaning text\n",
    "@Language.component(\"custom_cleaner\")\n",
    "def custom_cleaner(doc):\n",
    "    # Process multiple tokens at once\n",
    "    tokens = [token.lemma_ or token.text for token in doc \n",
    "             if  not token.is_punct\n",
    "             and not token.is_stop\n",
    "             and not token.is_space\n",
    "             and not token.is_digit\n",
    "             and not token.is_currency\n",
    "             and not token.is_quote\n",
    "             and not token.is_bracket]\n",
    "    return Doc(doc.vocab, words=tokens)\n",
    "\n",
    "def setup_pipeline():\n",
    "    nlp1 = spacy.load('en_core_web_sm', disable=['tok2vec','ner', 'parser', 'lemmatizer'])\n",
    "    nlp2 = spacy.load('en_core_web_sm', disable=['tok2vec','ner', 'parser'])\n",
    "    nlp2.add_pipe(\"custom_cleaner\", last=True)\n",
    "    return nlp1, nlp2\n",
    "\n",
    "def process_batch(texts, nlp, batch_size=1000):\n",
    "    return list(nlp.pipe(texts, batch_size=batch_size))\n",
    "\n",
    "def process_pipeline(texts, nlp): \n",
    "    # Process in batches\n",
    "    docs = process_batch([text.lower() for text in texts], nlp)\n",
    "    return [' '.join([token.text for token in doc]) for doc in docs]\n",
    "\n",
    "\n",
    "@measure_time(\"Prepare Data\")\n",
    "def prepare_data(train_ds, test_ds, nlp1, nlp2):\n",
    "    # Prepare Train data - Pipeline 1 and 2\n",
    "    train_ds['pipeline_1'] = process_pipeline(train_ds['text'].tolist(), nlp1)\n",
    "    train_ds['pipeline_2'] = process_pipeline(train_ds['text'].tolist(), nlp2)\n",
    "\n",
    "    # Prepare Test data - Pipeline 1 and 2\n",
    "    test_ds['pipeline_1'] = process_pipeline(test_ds['text'].tolist(), nlp1)\n",
    "    test_ds['pipeline_2'] = process_pipeline(test_ds['text'].tolist(), nlp2)\n",
    "    \n",
    "    # Prepare result dataset\n",
    "    train_y = train_ds['label'].values\n",
    "    test_y = test_ds['label'].values\n",
    "\n",
    "    return train_ds, test_ds, train_y, test_y\n",
    "\n",
    "nlp1, nlp2 = setup_pipeline()\n",
    "train_ds, test_ds, train_y, test_y = prepare_data(train_ds, test_ds, nlp1, nlp2)"
   ]
  },
  {
   "cell_type": "markdown",
   "id": "ffd3fdd3",
   "metadata": {},
   "source": [
    "## Word Embedding using 3 methods\n",
    "\n",
    "1. Word2Vec\n",
    "- Use Gensim's Word2Vec to get Word2Vec vectors\n",
    "\n",
    "2. BOW (Bag of Words)\n",
    "- Use SciKit-Learn's CountVectorizer to get BOW vectors\n",
    "\n",
    "3. GloVe \n",
    "- Use SpaCy to get GloVe vectors"
   ]
  },
  {
   "cell_type": "code",
   "execution_count": null,
   "id": "84ef3ae5",
   "metadata": {},
   "outputs": [
    {
     "name": "stdout",
     "output_type": "stream",
     "text": [
      "Embedding Word2Vec               :      75.80 seconds\n",
      "Embedding BOW                    :       5.46 seconds\n",
      "Embedding GloVe                  :     204.96 seconds\n",
      "Embedding BERT                   :     325.71 seconds\n"
     ]
    }
   ],
   "source": [
    "\n",
    "@measure_time(\"Embedding Word2Vec\")\n",
    "def embedding_word2vec(train_ds, test_ds):\n",
    "    \n",
    "    # Handle out of word errors for Word2Vec model testing.\n",
    "    def get_word_vector(word, model, vector_size=500):\n",
    "        try:\n",
    "            return model.wv[word]\n",
    "        except KeyError:\n",
    "            return np.zeros(vector_size)\n",
    "        \n",
    "    def get_doc_vector(tokens, model):\n",
    "        vectors = []\n",
    "        for token in tokens:\n",
    "            try:\n",
    "                vectors.append(model.wv[token])\n",
    "            except KeyError:\n",
    "                continue\n",
    "        if vectors:\n",
    "            return np.mean(vectors, axis=0)\n",
    "        return np.zeros(model.vector_size)\n",
    "    \n",
    "    # Train Word2Vec model\n",
    "    word2vec_model1 = Word2Vec(train_ds['pipeline_1'].apply(lambda x: x.split()), vector_size=500, window=5, min_count=1, workers=4)\n",
    "    word2vec_model2 = Word2Vec(train_ds['pipeline_2'].apply(lambda x: x.split()), vector_size=500, window=5, min_count=1, workers=4)\n",
    "\n",
    "    train_a1_X1 = [get_doc_vector(text.split(), word2vec_model1) for text in train_ds['pipeline_1']]\n",
    "    train_a1_X2 = [get_doc_vector(text.split(), word2vec_model2) for text in train_ds['pipeline_2']]\n",
    "\n",
    "    test_a1_X1 = [np.mean([get_word_vector(word, word2vec_model1) for word in text.split()], axis=0) for text in test_ds['pipeline_1']]\n",
    "    test_a1_X2 = [np.mean([get_word_vector(word, word2vec_model2) for word in text.split()], axis=0) for text in test_ds['pipeline_2']]\n",
    "\n",
    "    return train_a1_X1, train_a1_X2, test_a1_X1, test_a1_X2\n",
    "\n",
    "@measure_time(\"Embedding BOW\")\n",
    "def embedding_bow(train_ds, test_ds):\n",
    "    vectorizer1 = CountVectorizer(max_features=10000)\n",
    "    vectorizer2 = CountVectorizer(max_features=10000)\n",
    "\n",
    "    train_a2_X1 = vectorizer1.fit_transform(train_ds['pipeline_1']).toarray()\n",
    "    train_a2_X2 = vectorizer2.fit_transform(train_ds['pipeline_2']).toarray()\n",
    "\n",
    "    test_a2_X1 = vectorizer1.transform(test_ds['pipeline_1']).toarray()\n",
    "    test_a2_X2 = vectorizer2.transform(test_ds['pipeline_2']).toarray()\n",
    "\n",
    "    return train_a2_X1, train_a2_X2, test_a2_X1, test_a2_X2\n",
    "\n",
    "@measure_time(\"Embedding GloVe\")\n",
    "def embedding_glove(train_ds, test_ds):\n",
    "    glove_model = spacy.load('en_core_web_lg') \n",
    "    glove_model.select_pipes(enable=['tok2vec'])\n",
    "    \n",
    "    vector_size = glove_model.vocab.vectors.shape[1]  # Get vector dimension    \n",
    "    def get_doc_vector(doc):\n",
    "        # Handle string input\n",
    "        if isinstance(doc, str):\n",
    "            doc = glove_model(doc)\n",
    "            \n",
    "        # Get vectors for tokens that have them\n",
    "        vectors = [token.vector for token in doc if token.has_vector]\n",
    "        \n",
    "        # Return mean of vectors or zeros if no vectors\n",
    "        if vectors:\n",
    "            return np.mean(vectors, axis=0)\n",
    "        return np.zeros(vector_size)\n",
    "    \n",
    "    train_a3_X1 = [get_doc_vector(text) for text in train_ds['pipeline_1']]\n",
    "    train_a3_X2 = [get_doc_vector(text) for text in train_ds['pipeline_2']]\n",
    "\n",
    "    test_a3_X1 = [get_doc_vector(text) for text in test_ds['pipeline_1']]\n",
    "    test_a3_X2 = [get_doc_vector(text) for text in test_ds['pipeline_2']]\n",
    "\n",
    "    return train_a3_X1, train_a3_X2, test_a3_X1, test_a3_X2\n",
    "\n",
    "@measure_time(\"Embedding BERT\")\n",
    "def embedding_bert(train_ds, test_ds):\n",
    "    import torch\n",
    "    from torch.utils.data import DataLoader, Dataset\n",
    "    import numpy as np\n",
    "    \n",
    "    # Create a custom dataset class\n",
    "    class TextDataset(Dataset):\n",
    "        def __init__(self, texts):\n",
    "            self.texts = texts\n",
    "            \n",
    "        def __len__(self):\n",
    "            return len(self.texts)\n",
    "            \n",
    "        def __getitem__(self, idx):\n",
    "            return self.texts.iloc[idx]\n",
    "    \n",
    "    tokenizer = AutoTokenizer.from_pretrained('bert-base-uncased')\n",
    "    model = AutoModel.from_pretrained('bert-base-uncased')\n",
    "    \n",
    "    # Check if MPS (Metal Performance Shaders) is available\n",
    "    device = torch.device(\"mps\" if torch.backends.mps.is_available() else \"cpu\")\n",
    "    model = model.to(device)\n",
    "    \n",
    "    def process_batch(texts):\n",
    "        inputs = tokenizer(texts, return_tensors='pt', padding=True, truncation=True, max_length=128).to(device)\n",
    "        with torch.no_grad():\n",
    "            outputs = model(**inputs)\n",
    "        return outputs.last_hidden_state.mean(dim=1).cpu().numpy()\n",
    "    \n",
    "    def get_bert_embeddings(dataset, batch_size=32):\n",
    "        dataloader = DataLoader(dataset, batch_size=batch_size, shuffle=False)\n",
    "        embeddings = []\n",
    "        for batch in dataloader:\n",
    "            batch_embeddings = process_batch(batch)\n",
    "            embeddings.append(batch_embeddings)\n",
    "        return np.concatenate(embeddings, axis=0)\n",
    "    \n",
    "    # Create datasets\n",
    "    train_ds1 = TextDataset(train_ds['pipeline_1'])\n",
    "    train_ds2 = TextDataset(train_ds['pipeline_2'])\n",
    "    test_ds1 = TextDataset(test_ds['pipeline_1'])\n",
    "    test_ds2 = TextDataset(test_ds['pipeline_2'])\n",
    "    \n",
    "    # Get embeddings in batches\n",
    "    train_a4_X1 = get_bert_embeddings(train_ds1)\n",
    "    train_a4_X2 = get_bert_embeddings(train_ds2)\n",
    "    test_a4_X1 = get_bert_embeddings(test_ds1)\n",
    "    test_a4_X2 = get_bert_embeddings(test_ds2)\n",
    "    \n",
    "    return train_a4_X1, train_a4_X2, test_a4_X1, test_a4_X2\n",
    "\n",
    "\n",
    "# Embedding word2vec, BOW, and GloVe\n",
    "train_a1_X1, train_a1_X2, test_a1_X1, test_a1_X2 = embedding_word2vec(train_ds, test_ds)\n",
    "train_a2_X1, train_a2_X2, test_a2_X1, test_a2_X2 = embedding_bow(train_ds, test_ds)\n",
    "train_a3_X1, train_a3_X2, test_a3_X1, test_a3_X2 = embedding_glove(train_ds, test_ds)\n",
    "train_a4_X1, train_a4_X2, test_a4_X1, test_a4_X2 = embedding_bert(train_ds, test_ds)"
   ]
  },
  {
   "cell_type": "code",
   "execution_count": 17,
   "id": "6ce765c1",
   "metadata": {},
   "outputs": [
    {
     "name": "stdout",
     "output_type": "stream",
     "text": [
      "(24353, 768)\n",
      "(24353, 768)\n",
      "(8117, 768)\n",
      "(8117, 768)\n"
     ]
    }
   ],
   "source": [
    "print(train_a4_X1.shape)\n",
    "print(train_a4_X2.shape)\n",
    "print(test_a4_X1.shape)\n",
    "print(test_a4_X2.shape)"
   ]
  },
  {
   "cell_type": "markdown",
   "id": "65858d70",
   "metadata": {},
   "source": [
    "## Train Model and evaluate\n",
    "\n"
   ]
  },
  {
   "cell_type": "code",
   "execution_count": 18,
   "id": "171ff3d4",
   "metadata": {},
   "outputs": [
    {
     "name": "stdout",
     "output_type": "stream",
     "text": [
      "Train Model Word2Vec             :       0.91 seconds\n",
      "Train Model BoW                  :      98.41 seconds\n",
      "Train Model GloVe                :       0.99 seconds\n",
      "Train Model BERT                 :       1.31 seconds\n"
     ]
    }
   ],
   "source": [
    "@measure_time(\"Train Model Word2Vec\")\n",
    "def train_model_word2vec(train_a1_X1, train_a1_X2, train_y):\n",
    "    model_p1_a1 = LogisticRegression(max_iter=2000)\n",
    "    model_p1_a1.fit(train_a1_X1, train_y)\n",
    "\n",
    "    model_p2_a1 = LogisticRegression(max_iter=2000)\n",
    "    model_p2_a1.fit(train_a1_X2, train_y) \n",
    "  \n",
    "    return model_p1_a1, model_p2_a1\n",
    "\n",
    "@measure_time(\"Train Model BoW\")\n",
    "def train_model_bow(train_a2_X1, train_a2_X2, train_y):\n",
    "    model_p1_a2 = LogisticRegression(max_iter=2000)\n",
    "    model_p1_a2.fit(train_a2_X1, train_y)\n",
    "\n",
    "    model_p2_a2 = LogisticRegression(max_iter=2000)\n",
    "    model_p2_a2.fit(train_a2_X2, train_y) \n",
    "  \n",
    "    return model_p1_a2, model_p2_a2\n",
    "\n",
    "@measure_time(\"Train Model GloVe\")\n",
    "def train_model_glove(train_a3_X1, train_a3_X2, train_y):\n",
    "    model_p1_a3 = LogisticRegression(max_iter=2000)\n",
    "    model_p1_a3.fit(train_a3_X1, train_y)\n",
    "\n",
    "    model_p2_a3 = LogisticRegression(max_iter=2000)\n",
    "    model_p2_a3.fit(train_a3_X2, train_y)\n",
    "  \n",
    "    return model_p1_a3, model_p2_a3\n",
    "\n",
    "@measure_time(\"Train Model BERT\")\n",
    "def train_model_bert(train_a4_X1, train_a4_X2, train_y):\n",
    "    model_p1_a4 = LogisticRegression(max_iter=2000)\n",
    "    model_p1_a4.fit(train_a4_X1, train_y)\n",
    "\n",
    "    model_p2_a4 = LogisticRegression(max_iter=2000)\n",
    "    model_p2_a4.fit(train_a4_X2, train_y)\n",
    "  \n",
    "    return model_p1_a4, model_p2_a4\n",
    "\n",
    "# Train Model\n",
    "model_p1_a1, model_p2_a1 = train_model_word2vec(train_a1_X1, train_a1_X2, train_y)\n",
    "model_p1_a2, model_p2_a2 = train_model_bow(train_a2_X1, train_a2_X2, train_y)\n",
    "model_p1_a3, model_p2_a3 = train_model_glove(train_a3_X1, train_a3_X2, train_y) \n",
    "model_p1_a4, model_p2_a4 = train_model_bert(train_a4_X1, train_a4_X2, train_y)"
   ]
  },
  {
   "cell_type": "markdown",
   "id": "e1d265e7",
   "metadata": {},
   "source": [
    "## Evaluate the performance of a model using a validation set"
   ]
  },
  {
   "cell_type": "code",
   "execution_count": 19,
   "id": "e89540c9",
   "metadata": {},
   "outputs": [
    {
     "name": "stdout",
     "output_type": "stream",
     "text": [
      "Model Pipeline1 Word2Vec Accuracy:     0.9762\n",
      "Model Pipeline2 Word2Vec Accuracy:     0.9698\n",
      "Model Pipeline1 BOW      Accuracy:     0.9786\n",
      "Model Pipeline2 BOW      Accuracy:     0.9816\n",
      "Model Pipeline1 GloVe    Accuracy:     0.9681\n",
      "Model Pipeline2 GloVe    Accuracy:     0.9605\n",
      "Model Pipeline1 BERT     Accuracy:     0.9797\n",
      "Model Pipeline2 BERT     Accuracy:     0.9722\n"
     ]
    }
   ],
   "source": [
    "print(f\"Model Pipeline1 Word2Vec Accuracy: {model_p1_a1.score(test_a1_X1, test_y):>10.4f}\")\n",
    "print(f\"Model Pipeline2 Word2Vec Accuracy: {model_p2_a1.score(test_a1_X2, test_y):>10.4f}\")\n",
    "print(f\"Model Pipeline1 BOW      Accuracy: {model_p1_a2.score(test_a2_X1, test_y):>10.4f}\")\n",
    "print(f\"Model Pipeline2 BOW      Accuracy: {model_p2_a2.score(test_a2_X2, test_y):>10.4f}\")\n",
    "print(f\"Model Pipeline1 GloVe    Accuracy: {model_p1_a3.score(test_a3_X1, test_y):>10.4f}\")   \n",
    "print(f\"Model Pipeline2 GloVe    Accuracy: {model_p2_a3.score(test_a3_X2, test_y):>10.4f}\") \n",
    "print(f\"Model Pipeline1 BERT     Accuracy: {model_p1_a4.score(test_a4_X1, test_y):>10.4f}\")   \n",
    "print(f\"Model Pipeline2 BERT     Accuracy: {model_p2_a4.score(test_a4_X2, test_y):>10.4f}\") "
   ]
  },
  {
   "cell_type": "markdown",
   "id": "9e42a1fc",
   "metadata": {},
   "source": [
    "# Visualization"
   ]
  },
  {
   "cell_type": "code",
   "execution_count": 15,
   "id": "2d29a533",
   "metadata": {},
   "outputs": [
    {
     "data": {
      "image/png": "[encoded data removed]",
      "text/plain": [
       "<Figure size 600x300 with 1 Axes>"
      ]
     },
     "metadata": {},
     "output_type": "display_data"
    },
    {
     "data": {
      "image/png": "[encoded data removed]",
      "text/plain": [
       "<Figure size 600x300 with 1 Axes>"
      ]
     },
     "metadata": {},
     "output_type": "display_data"
    },
    {
     "data": {
      "image/png": "[encoded data removed]",
      "text/plain": [
       "<Figure size 600x300 with 2 Axes>"
      ]
     },
     "metadata": {},
     "output_type": "display_data"
    }
   ],
   "source": [
    "import matplotlib.pyplot as plt\n",
    "import seaborn as sns\n",
    "\n",
    "# Prepare data for plotting\n",
    "methods = ['Word2Vec', 'BOW', 'GloVe']\n",
    "pipeline1_scores = [0.9761, 0.9786, 0.9681]\n",
    "pipeline2_scores = [0.9714, 0.9816, 0.9605]\n",
    "\n",
    "# Create grouped bar plot\n",
    "plt.figure(figsize=(6,3))\n",
    "x = np.arange(len(methods))\n",
    "width = 0.35\n",
    "\n",
    "plt.bar(x - width/2, pipeline1_scores, width, label='Pipeline 1', color='skyblue')\n",
    "plt.bar(x + width/2, pipeline2_scores, width, label='Pipeline 2', color='lightcoral')\n",
    "\n",
    "plt.ylabel('Accuracy Score')\n",
    "plt.title('Model Accuracy by Pipeline and Embedding Method')\n",
    "plt.xticks(x, methods)\n",
    "plt.legend()\n",
    "plt.grid(True, alpha=0.3)\n",
    "\n",
    "# Add value labels on top of bars\n",
    "for i, v in enumerate(pipeline1_scores):\n",
    "    plt.text(i - width/2, v + 0.001, f'{v:.4f}', ha='center')\n",
    "for i, v in enumerate(pipeline2_scores):\n",
    "    plt.text(i + width/2, v + 0.001, f'{v:.4f}', ha='center')\n",
    "\n",
    "plt.tight_layout()\n",
    "plt.show()\n",
    "\n",
    "# Prepare timing data\n",
    "methods = ['Data Preparation', 'Word2Vec', 'BOW', 'GloVe']\n",
    "times = [309.49, 77.45, 5.43, 244.75]\n",
    "\n",
    "plt.figure(figsize=(6, 3))\n",
    "bars = plt.bar(methods, times, color=['lightblue', 'lightgreen', 'lightcoral', 'lightsalmon'])\n",
    "plt.ylabel('Processing Time (seconds)')\n",
    "plt.title('Processing Time by Method')\n",
    "plt.xticks(rotation=45)\n",
    "\n",
    "# Add value labels on top of bars\n",
    "for bar in bars:\n",
    "    height = bar.get_height()\n",
    "    plt.text(bar.get_x() + bar.get_width()/2., height,\n",
    "             f'{height:.2f}s',\n",
    "             ha='center', va='bottom')\n",
    "\n",
    "plt.grid(True, alpha=0.3)\n",
    "plt.tight_layout()\n",
    "plt.show()\n",
    "\n",
    "# Create heatmap data\n",
    "performance_data = {\n",
    "    'Pipeline 1': pipeline1_scores,\n",
    "    'Pipeline 2': pipeline2_scores\n",
    "}\n",
    "df_heatmap = pd.DataFrame(performance_data, index=methods[1:])\n",
    "\n",
    "\n",
    "plt.figure(figsize=(6, 3))\n",
    "sns.heatmap(df_heatmap, annot=True, fmt='.4f', cmap='YlOrRd', \n",
    "            center=0.97, vmin=0.96, vmax=0.98)\n",
    "plt.title('Performance Heatmap: Pipeline vs Embedding Method')\n",
    "plt.tight_layout()\n",
    "plt.show()"
   ]
  },
  {
   "cell_type": "markdown",
   "id": "cb9aa01f",
   "metadata": {},
   "source": [
    "# Report\n",
    "\n",
    "## Conclusion\n",
    "- Word2Vec and BOW are the best performing models for this dataset.\n",
    "- GloVe is the worst performing model for this dataset.\n",
    "- Pipeline 2 is the best performing model for this dataset.\n",
    "- Pipeline 1 is the second best performing model for this dataset.\n",
    "\n",
    "## Recommendation\n",
    "- Use Word2Vec and BOW for this dataset.\n",
    "- Use Pipeline 2 for this dataset.\n"
   ]
  },
  {
   "cell_type": "markdown",
   "id": "7cfb2eb9",
   "metadata": {},
   "source": [
    "## Reference(s):\n",
    "Singh, A. (n.d.). Fake News Classification. Kaggle. Retrieved January 17, 2025, from https://www.kaggle.com/datasets/aadyasingh55/fake-news-classification/data"
   ]
  }
 ],
 "metadata": {
  "kernelspec": {
   "display_name": "nlp",
   "language": "python",
   "name": "python3"
  },
  "language_info": {
   "codemirror_mode": {
    "name": "ipython",
    "version": 3
   },
   "file_extension": ".py",
   "mimetype": "text/x-python",
   "name": "python",
   "nbconvert_exporter": "python",
   "pygments_lexer": "ipython3",
   "version": "3.12.8"
  }
 },
 "nbformat": 4,
 "nbformat_minor": 5
}
